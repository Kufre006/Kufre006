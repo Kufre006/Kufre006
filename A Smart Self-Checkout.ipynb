{
 "cells": [
  {
   "cell_type": "markdown",
   "id": "c91308fd-101c-4ac4-934b-761ee616a8f2",
   "metadata": {},
   "source": [
    "# A Smart Self-Checkout"
   ]
  },
  {
   "cell_type": "markdown",
   "id": "cfc2c986-261c-4eba-95fb-c2b4d4d8f1fe",
   "metadata": {},
   "source": [
    "#### Description\n",
    "- This is program is a smart self-checkout that allows you to continuously add items to your cart, shows you your total purchase and updates the number of items in store for next order.\n",
    "- The program ends when all items in store are exhausted and your total purchase is presented to you."
   ]
  },
  {
   "cell_type": "code",
   "execution_count": null,
   "id": "0c90b44f-4089-4fae-b943-7eb2b69d9018",
   "metadata": {},
   "outputs": [],
   "source": [
    "import pandas as pd"
   ]
  },
  {
   "cell_type": "code",
   "execution_count": null,
   "id": "7d2f25fc-3e1c-4c85-a510-8b60fa6cb967",
   "metadata": {},
   "outputs": [
    {
     "name": "stdout",
     "output_type": "stream",
     "text": [
      "\n",
      "\n",
      "WELCOME TO SUPERSTORE\n",
      "\n",
      "\n",
      "The following items are available:\n",
      "\n",
      "\n",
      "Apple: 10 available at $2.5 each\n",
      "Banana: 15 available at $1 each\n",
      "Orange: 15 available at $1.5 each\n",
      "Mango: 5 available at $3.0 each\n",
      "\n",
      "\n",
      "Do you want to add item(s) to cart?\n",
      "\n",
      "\n"
     ]
    }
   ],
   "source": [
    "def Smart_Self_Check_Out():\n",
    "        print(\"\\n\")\n",
    "        print(\"WELCOME TO SUPERSTORE\")\n",
    "        print(\"\\n\")\n",
    "        inventory = {\n",
    "            \"apple\": {\"quantity\": 10, \"price\": 2.5},\n",
    "            \"banana\": {\"quantity\": 15, \"price\": 1},\n",
    "            \"orange\": {\"quantity\": 15, \"price\": 1.5},\n",
    "            \"mango\": {\"quantity\": 5, \"price\": 3.0}\n",
    "        }\n",
    "        \n",
    "        total_price = 0\n",
    "        \n",
    "        def check_inventory(inventory):\n",
    "            if all(item[\"quantity\"] == 0 for item in inventory.values()):\n",
    "                print(inventory)\n",
    "                print(\"No item available, please try again next time.\")\n",
    "                return True\n",
    "            return False\n",
    "        \n",
    "        while True:\n",
    "            if check_inventory(inventory):\n",
    "                break\n",
    "        \n",
    "            print(\"The following items are available:\")\n",
    "            print(\"\\n\")\n",
    "            for item, details in inventory.items():\n",
    "                print(f\"{item.capitalize()}: {details['quantity']} available at ${details['price']} each\")\n",
    "                \n",
    "            print(\"\\n\")    \n",
    "            print(\"Do you want to add item(s) to cart?\")\n",
    "            print(\"\\n\")\n",
    "            item = input(\"Please choose item to add to chart or type 'exit' to quit: \").lower()\n",
    "             \n",
    "            if item == \"exit\":\n",
    "                break\n",
    "        \n",
    "            if item not in inventory:\n",
    "                print(\"Item not found\")\n",
    "                continue\n",
    "        \n",
    "            if inventory[item][\"quantity\"] == 0:\n",
    "                print(\"Item completely sold, please choose a different item\")\n",
    "                continue\n",
    "            \n",
    "            while True:\n",
    "                try:\n",
    "                    quantity = int(input(f\"Please Enter the quantity of {item} you want to buy: \"))\n",
    "                    if quantity > inventory[item][\"quantity\"]:\n",
    "                        print(\"Quantity out of range\")\n",
    "                        continue\n",
    "                    elif quantity <= 0:\n",
    "                        print(\"Invalid quantity\")\n",
    "                        continue\n",
    "                    else:\n",
    "                        item_price = quantity * inventory[item][\"price\"]\n",
    "                        inventory[item][\"quantity\"] -= quantity\n",
    "                        print(\"\\n\") \n",
    "                        print(f\"You selected {quantity} {item}(s) and the price is ${item_price:.2f}\")\n",
    "                        \n",
    "                        total_price += item_price\n",
    "                        \n",
    "                        print(\"---------------------------------------------------------------------------------\")\n",
    "                        print(\"\\n\")\n",
    "                        break  # Exit the inner while loop\n",
    "                except ValueError:\n",
    "                    print(\"Invalid input. Please enter a valid number.\")\n",
    "        \n",
    "        print(\"\\n\")\n",
    "        print(f\"Your total purchase is ${total_price:.2f}\")\n",
    "        print(\"\\n\") \n",
    "        print(\"Thank you for choosing Superstore\") \n",
    "        print(\"Goodbye!\") \n",
    "Smart_Self_Check_Out().to_csv(\"Smart Self Checkout\")"
   ]
  },
  {
   "cell_type": "code",
   "execution_count": null,
   "id": "856dde35-af10-4852-a8e1-b2eaaaa2591c",
   "metadata": {},
   "outputs": [],
   "source": [
    "Smart_Self_Check_Out()"
   ]
  }
 ],
 "metadata": {
  "kernelspec": {
   "display_name": "Python 3 (ipykernel)",
   "language": "python",
   "name": "python3"
  },
  "language_info": {
   "codemirror_mode": {
    "name": "ipython",
    "version": 3
   },
   "file_extension": ".py",
   "mimetype": "text/x-python",
   "name": "python",
   "nbconvert_exporter": "python",
   "pygments_lexer": "ipython3",
   "version": "3.11.7"
  }
 },
 "nbformat": 4,
 "nbformat_minor": 5
}
